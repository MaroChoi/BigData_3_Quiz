{
 "cells": [
  {
   "cell_type": "code",
   "execution_count": 12,
   "id": "c793cf0a",
   "metadata": {},
   "outputs": [],
   "source": [
    "import pandas as pd\n",
    "import matplotlib.pyplot as plt\n",
    "\n",
    "# 한글화\n",
    "plt.rcParams['font.family'] = 'NanumGothic'\n",
    "plt.rcParams['axes.unicode_minus'] = False"
   ]
  },
  {
   "cell_type": "code",
   "execution_count": 13,
   "id": "b1cbed95",
   "metadata": {},
   "outputs": [
    {
     "name": "stdout",
     "output_type": "stream",
     "text": [
      "   Unnamed: 0  Age 이직여부           출장빈도  일일성과지표                      부서  집까지거리  \\\n",
      "0        1041   28   No  Travel_Rarely     866                   Sales      5   \n",
      "1         184   53   No  Travel_Rarely    1084  Research & Development     13   \n",
      "2        1222   24  Yes  Travel_Rarely     240         Human Resources     22   \n",
      "3          67   45   No  Travel_Rarely    1339  Research & Development      7   \n",
      "4         220   36   No  Travel_Rarely    1396  Research & Development      5   \n",
      "\n",
      "   학력수준             전공분야  EmployeeCount  ...  대인관계만족도  StandardHours 스톡옵션등급  \\\n",
      "0     3          Medical              1  ...        4             80      0   \n",
      "1     2          Medical              1  ...        3             80      2   \n",
      "2     1  Human Resources              1  ...        3             80      1   \n",
      "3     3    Life Sciences              1  ...        3             80      1   \n",
      "4     2    Life Sciences              1  ...        4             80      0   \n",
      "\n",
      "   총경력  연간교육횟수  워라밸 현회사근속년수  현직무근속년수 최근승진후경과년수  현상사근속년수  \n",
      "0    6       4    3       5        4         1        3  \n",
      "1    5       3    3       4        2         1        3  \n",
      "2    1       2    3       1        0         0        0  \n",
      "3   25       2    3       1        0         0        0  \n",
      "4   16       3    4      13       11         3        7  \n",
      "\n",
      "[5 rows x 36 columns]\n"
     ]
    }
   ],
   "source": [
    "# 1. 데이터 불러오기\n",
    "df = pd.read_csv('한국_기업문화_HR_데이터셋_샘플.csv')\n",
    "\n",
    "# 2. 데이터 확인\n",
    "print(df.head())"
   ]
  },
  {
   "cell_type": "code",
   "execution_count": 14,
   "id": "8581dff3",
   "metadata": {},
   "outputs": [],
   "source": [
    "# 3단계. 칼럼명 한글에서 영어로 변경 \n",
    "df.rename(columns={\n",
    "    '이직여부': 'Attrition',\n",
    "    '야근여부': 'OverTime',\n",
    "    '업무만족도': 'JobSatisfaction',\n",
    "    '워라밸': 'WorkLifeBalance',\n",
    "    '집까지거리': 'DistanceFromHome',\n",
    "    '현회사근속년수': 'YearsAtCompany',\n",
    "    '출장빈도': 'BusinessTravel',\n",
    "}, inplace=True)"
   ]
  },
  {
   "cell_type": "code",
   "execution_count": 15,
   "id": "3bd51d61",
   "metadata": {},
   "outputs": [
    {
     "name": "stdout",
     "output_type": "stream",
     "text": [
      "  Attrition OverTime  JobSatisfaction  WorkLifeBalance  DistanceFromHome  \\\n",
      "0        No       No                1                3                 5   \n",
      "1        No       No                1                3                13   \n",
      "2       Yes       No                3                3                22   \n",
      "3        No       No                1                3                 7   \n",
      "4        No       No                2                4                 5   \n",
      "\n",
      "   YearsAtCompany BusinessTravel  \n",
      "0               5  Travel_Rarely  \n",
      "1               4  Travel_Rarely  \n",
      "2               1  Travel_Rarely  \n",
      "3               1  Travel_Rarely  \n",
      "4              13  Travel_Rarely  \n"
     ]
    }
   ],
   "source": [
    "# 4단계. 칼럼 선별 6개 (이직율과 가장 높은 상관관계 6개 선정)\n",
    "\n",
    "df_selected = df[['Attrition', #  예측 대상 변수 (이직 여부: Yes/No)\n",
    "                  'OverTime', #  야근 여부 –> 스트레스, 이직률과 매우 높은 상관\n",
    "                  'JobSatisfaction', #  업무 만족도 –> 낮을수록 이직 가능성↑\n",
    "                  'WorkLifeBalance',  #  워라밸 만족도 –> 조직문화·불만족 요인\n",
    "                  'DistanceFromHome',  #  집과 직장 간 거리 –> 통근 피로도는 주요 이직 사유\n",
    "                  'YearsAtCompany', #  현 회사 근속 연수 –> 짧을수록 이직률 높음\n",
    "                  'BusinessTravel']]   #  출장 빈도 –> 잦은 출장은 소진과 이직에 영향\n",
    "\n",
    "# 확인\n",
    "print(df_selected.head())\n"
   ]
  },
  {
   "cell_type": "code",
   "execution_count": 16,
   "id": "1ddc135b",
   "metadata": {},
   "outputs": [
    {
     "name": "stdout",
     "output_type": "stream",
     "text": [
      "   Attrition  OverTime  JobSatisfaction  WorkLifeBalance  DistanceFromHome  \\\n",
      "0          0         0                1                3                 5   \n",
      "1          0         0                1                3                13   \n",
      "2          1         0                3                3                22   \n",
      "3          0         0                1                3                 7   \n",
      "4          0         0                2                4                 5   \n",
      "\n",
      "   YearsAtCompany  BusinessTravel_Travel_Frequently  \\\n",
      "0               5                                 0   \n",
      "1               4                                 0   \n",
      "2               1                                 0   \n",
      "3               1                                 0   \n",
      "4              13                                 0   \n",
      "\n",
      "   BusinessTravel_Travel_Rarely  \n",
      "0                             1  \n",
      "1                             1  \n",
      "2                             1  \n",
      "3                             1  \n",
      "4                             1  \n"
     ]
    },
    {
     "name": "stderr",
     "output_type": "stream",
     "text": [
      "C:\\Users\\chlwo\\AppData\\Local\\Temp\\ipykernel_94440\\3773233403.py:5: SettingWithCopyWarning: \n",
      "A value is trying to be set on a copy of a slice from a DataFrame.\n",
      "Try using .loc[row_indexer,col_indexer] = value instead\n",
      "\n",
      "See the caveats in the documentation: https://pandas.pydata.org/pandas-docs/stable/user_guide/indexing.html#returning-a-view-versus-a-copy\n",
      "  df_selected['Attrition'] = df_selected['Attrition'].map({'Yes': 1, 'No': 0})\n",
      "C:\\Users\\chlwo\\AppData\\Local\\Temp\\ipykernel_94440\\3773233403.py:6: SettingWithCopyWarning: \n",
      "A value is trying to be set on a copy of a slice from a DataFrame.\n",
      "Try using .loc[row_indexer,col_indexer] = value instead\n",
      "\n",
      "See the caveats in the documentation: https://pandas.pydata.org/pandas-docs/stable/user_guide/indexing.html#returning-a-view-versus-a-copy\n",
      "  df_selected['OverTime'] = df_selected['OverTime'].map({'Yes': 1, 'No': 0})\n"
     ]
    }
   ],
   "source": [
    "# 5단계 머신러닝을 위한 데이터 변환 (범주형 변수 -> 숫자형 변수 변환)\n",
    "from sklearn.preprocessing import LabelEncoder\n",
    "\n",
    "# 야근빈도와 이직여부는 이진범주라 LabelEncoding\n",
    "df_selected['Attrition'] = df_selected['Attrition'].map({'Yes': 1, 'No': 0})\n",
    "df_selected['OverTime'] = df_selected['OverTime'].map({'Yes': 1, 'No': 0})\n",
    "\n",
    "# 출장은 One-Hot 정수형 변환\n",
    "df_selected = pd.get_dummies(df_selected, columns=['BusinessTravel'], drop_first=True, dtype=int)\n",
    "\n",
    "# 결과 확인\n",
    "print(df_selected.head())"
   ]
  },
  {
   "cell_type": "code",
   "execution_count": null,
   "id": "903a4db8",
   "metadata": {},
   "outputs": [
    {
     "name": "stdout",
     "output_type": "stream",
     "text": [
      "Attrition                           0\n",
      "OverTime                            0\n",
      "JobSatisfaction                     0\n",
      "WorkLifeBalance                     0\n",
      "DistanceFromHome                    0\n",
      "YearsAtCompany                      0\n",
      "BusinessTravel_Travel_Frequently    0\n",
      "BusinessTravel_Travel_Rarely        0\n",
      "dtype: int64\n"
     ]
    }
   ],
   "source": [
    "# 6단계 데이터 전처리(결측치 제거)\n",
    "print(df_selected.isnull().sum())\n",
    "# 이미 결측치가 없으니 이상치만 보자."
   ]
  },
  {
   "cell_type": "code",
   "execution_count": null,
   "id": "3e1e07a2",
   "metadata": {},
   "outputs": [
    {
     "name": "stdout",
     "output_type": "stream",
     "text": [
      "이상치 개수: 0\n",
      "Empty DataFrame\n",
      "Columns: [DistanceFromHome]\n",
      "Index: []\n"
     ]
    }
   ],
   "source": [
    "# 7단계 데이터 전처리(이상치 처리)\n",
    "\n",
    "# IQR 방식으로 이상치 확인 \n",
    "# 코드 출처 : https://velog.io/@jihyunko/%EC%9D%B4%EC%83%81%EC%B9%98-%EC%89%BD%EA%B2%8C-%EC%B2%98%EB%A6%AC%ED%95%98%EA%B8%B0\n",
    "\n",
    "def findOutliers(x, column):\n",
    "    q1 = x[column].quantile(0.25)\n",
    "    q3 = x[column].quantile(0.75)\n",
    "    iqr = q3 - q1\n",
    "    y = x[(x[column] > (q3 + 1.5 * iqr)) | (x[column] < (q1 - 1.5 * iqr))]\n",
    "    return y  # 이상치만 반환\n",
    "\n",
    "# 예: DistanceFromHome 컬럼의 이상치 확인\n",
    "outliers_df = findOutliers(df_selected, 'DistanceFromHome')\n",
    "print(\"이상치 개수:\", len(outliers_df))\n",
    "print(outliers_df[['DistanceFromHome']])\n",
    "\n",
    "# 이상치도 딱히 없다는 것을 확인"
   ]
  },
  {
   "cell_type": "code",
   "execution_count": null,
   "id": "bcd7c4c1",
   "metadata": {},
   "outputs": [
    {
     "name": "stdout",
     "output_type": "stream",
     "text": [
      "X_train shape: (800, 7)\n",
      "X_test shape: (200, 7)\n",
      "y_train 이직자 비율: 0.1575\n",
      "y_test 이직자 비율: 0.16\n"
     ]
    }
   ],
   "source": [
    "# 8단계 모델 훈련 \n",
    "# 학습/검증 데이터를 8:2 비율로 분할하시오.\n",
    "# pandas -> numpy 변환\n",
    "\n",
    "import numpy as np\n",
    "from sklearn.model_selection import train_test_split\n",
    "\n",
    "# X: 독립 변수, y: 종속 변수\n",
    "X = df_selected.drop('Attrition', axis=1).values \n",
    "y = df_selected['Attrition'].values               \n",
    "\n",
    "# 학습/검증 데이터 분할 (8:2 비율)\n",
    "X_train, X_test, y_train, y_test = train_test_split(\n",
    "    X, y, test_size=0.2, random_state=42, stratify=y\n",
    ")\n",
    "\n",
    "# 확인\n",
    "print(\"X_train shape:\", X_train.shape)\n",
    "print(\"X_test shape:\", X_test.shape)\n",
    "print(\"y_train 이직자 비율:\", round(np.mean(y_train), 4))\n",
    "print(\"y_test 이직자 비율:\", round(np.mean(y_test), 4))\n",
    "\n",
    "\n"
   ]
  },
  {
   "cell_type": "code",
   "execution_count": null,
   "id": "0c6e848a",
   "metadata": {},
   "outputs": [
    {
     "name": "stdout",
     "output_type": "stream",
     "text": [
      "Accuracy Score: 0.825\n",
      "Confusion Matrix:\n",
      " [[164   4]\n",
      " [ 31   1]]\n",
      "\n",
      "Classification Report:\n",
      "               precision    recall  f1-score   support\n",
      "\n",
      "           0       0.84      0.98      0.90       168\n",
      "           1       0.20      0.03      0.05        32\n",
      "\n",
      "    accuracy                           0.82       200\n",
      "   macro avg       0.52      0.50      0.48       200\n",
      "weighted avg       0.74      0.82      0.77       200\n",
      "\n"
     ]
    }
   ],
   "source": [
    "# 9단계: LogisticRegression 모델 학습 및 평가\n",
    "# 출처: [sklearn 기본] 승객 생존율 예측 https://blog.naver.com/atomickimm/222298669290\n",
    "\n",
    "from sklearn.linear_model import LogisticRegression\n",
    "from sklearn.metrics import accuracy_score, confusion_matrix, classification_report\n",
    "\n",
    "# 모델 정의 및 학습\n",
    "log_reg = LogisticRegression(random_state=13, solver='liblinear', C=10.0)\n",
    "log_reg.fit(X_train, y_train)\n",
    "\n",
    "# 예측\n",
    "pred = log_reg.predict(X_test)\n",
    "\n",
    "# 정확도 출력\n",
    "print(\"정확도:\", round(accuracy_score(y_test, pred), 4))\n",
    "\n",
    "# 혼동 행렬 출력\n",
    "print(\"혼동 행렬:\\n\", confusion_matrix(y_test, pred))\n",
    "\n",
    "# 분류 성능 상세 지표\n",
    "print(\"\\n 상세지표:\\n\", classification_report(y_test, pred))\n",
    "\n"
   ]
  },
  {
   "cell_type": "markdown",
   "id": "6f2eeb2f",
   "metadata": {},
   "source": []
  }
 ],
 "metadata": {
  "kernelspec": {
   "display_name": "base",
   "language": "python",
   "name": "python3"
  },
  "language_info": {
   "codemirror_mode": {
    "name": "ipython",
    "version": 3
   },
   "file_extension": ".py",
   "mimetype": "text/x-python",
   "name": "python",
   "nbconvert_exporter": "python",
   "pygments_lexer": "ipython3",
   "version": "3.12.7"
  }
 },
 "nbformat": 4,
 "nbformat_minor": 5
}
