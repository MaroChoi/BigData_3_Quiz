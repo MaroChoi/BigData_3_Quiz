{
 "cells": [
  {
   "cell_type": "code",
   "execution_count": null,
   "id": "c793cf0a",
   "metadata": {},
   "outputs": [],
   "source": [
    "import pandas as pd\n",
    "import matplotlib.pyplot as plt\n",
    "\n",
    "# 한글화\n",
    "plt.rcParams['font.family'] = 'NanumGothic'\n",
    "plt.rcParams['axes.unicode_minus'] = False"
   ]
  },
  {
   "cell_type": "code",
   "execution_count": null,
   "id": "b1cbed95",
   "metadata": {},
   "outputs": [
    {
     "name": "stdout",
     "output_type": "stream",
     "text": [
      "   Unnamed: 0  Age 이직여부           출장빈도  일일성과지표                      부서  집까지거리  \\\n",
      "0        1041   28   No  Travel_Rarely     866                   Sales      5   \n",
      "1         184   53   No  Travel_Rarely    1084  Research & Development     13   \n",
      "2        1222   24  Yes  Travel_Rarely     240         Human Resources     22   \n",
      "3          67   45   No  Travel_Rarely    1339  Research & Development      7   \n",
      "4         220   36   No  Travel_Rarely    1396  Research & Development      5   \n",
      "\n",
      "   학력수준             전공분야  EmployeeCount  ...  대인관계만족도  StandardHours 스톡옵션등급  \\\n",
      "0     3          Medical              1  ...        4             80      0   \n",
      "1     2          Medical              1  ...        3             80      2   \n",
      "2     1  Human Resources              1  ...        3             80      1   \n",
      "3     3    Life Sciences              1  ...        3             80      1   \n",
      "4     2    Life Sciences              1  ...        4             80      0   \n",
      "\n",
      "   총경력  연간교육횟수  워라밸 현회사근속년수  현직무근속년수 최근승진후경과년수  현상사근속년수  \n",
      "0    6       4    3       5        4         1        3  \n",
      "1    5       3    3       4        2         1        3  \n",
      "2    1       2    3       1        0         0        0  \n",
      "3   25       2    3       1        0         0        0  \n",
      "4   16       3    4      13       11         3        7  \n",
      "\n",
      "[5 rows x 36 columns]\n"
     ]
    }
   ],
   "source": [
    "# 1. 데이터 불러오기\n",
    "df = pd.read_csv('한국_기업문화_HR_데이터셋_샘플.csv')\n",
    "\n",
    "# 2. 데이터 확인\n",
    "print(df.head())"
   ]
  },
  {
   "cell_type": "code",
   "execution_count": 7,
   "id": "8581dff3",
   "metadata": {},
   "outputs": [],
   "source": [
    "# 3단계. 칼럼명 한글에서 영어로 변경 \n",
    "df.rename(columns={\n",
    "    '이직여부': 'Attrition',\n",
    "    '야근여부': 'OverTime',\n",
    "    '업무만족도': 'JobSatisfaction',\n",
    "    '워라밸': 'WorkLifeBalance',\n",
    "    '집까지거리': 'DistanceFromHome',\n",
    "    '현회사근속년수': 'YearsAtCompany',\n",
    "    '출장빈도': 'BusinessTravel',\n",
    "}, inplace=True)"
   ]
  },
  {
   "cell_type": "code",
   "execution_count": null,
   "id": "3bd51d61",
   "metadata": {},
   "outputs": [
    {
     "name": "stdout",
     "output_type": "stream",
     "text": [
      "  Attrition OverTime  JobSatisfaction  WorkLifeBalance  DistanceFromHome  \\\n",
      "0        No       No                1                3                 5   \n",
      "1        No       No                1                3                13   \n",
      "2       Yes       No                3                3                22   \n",
      "3        No       No                1                3                 7   \n",
      "4        No       No                2                4                 5   \n",
      "\n",
      "   YearsAtCompany BusinessTravel  \n",
      "0               5  Travel_Rarely  \n",
      "1               4  Travel_Rarely  \n",
      "2               1  Travel_Rarely  \n",
      "3               1  Travel_Rarely  \n",
      "4              13  Travel_Rarely  \n"
     ]
    }
   ],
   "source": [
    "# 4단계. 칼럼 선별 6개 (이직율과 가장 높은 상관관계 6개 선정)\n",
    "\n",
    "df_selected = df[['Attrition', #  예측 대상 변수 (이직 여부: Yes/No)\n",
    "                  'OverTime', #  야근 여부 –> 스트레스, 이직률과 매우 높은 상관\n",
    "                  'JobSatisfaction', #  업무 만족도 –> 낮을수록 이직 가능성↑\n",
    "                  'WorkLifeBalance',  #  워라밸 만족도 –> 조직문화·불만족 요인\n",
    "                  'DistanceFromHome',  #  집과 직장 간 거리 –> 통근 피로도는 주요 이직 사유\n",
    "                  'YearsAtCompany', #  현 회사 근속 연수 –> 짧을수록 이직률 높음\n",
    "                  'BusinessTravel']]   #  출장 빈도 –> 잦은 출장은 소진과 이직에 영향\n",
    "\n",
    "# 확인\n",
    "print(df_selected.head())\n"
   ]
  },
  {
   "cell_type": "code",
   "execution_count": null,
   "id": "1ddc135b",
   "metadata": {},
   "outputs": [],
   "source": []
  }
 ],
 "metadata": {
  "kernelspec": {
   "display_name": "base",
   "language": "python",
   "name": "python3"
  },
  "language_info": {
   "codemirror_mode": {
    "name": "ipython",
    "version": 3
   },
   "file_extension": ".py",
   "mimetype": "text/x-python",
   "name": "python",
   "nbconvert_exporter": "python",
   "pygments_lexer": "ipython3",
   "version": "3.12.7"
  }
 },
 "nbformat": 4,
 "nbformat_minor": 5
}
